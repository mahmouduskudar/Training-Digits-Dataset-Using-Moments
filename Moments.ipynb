{
  "nbformat": 4,
  "nbformat_minor": 0,
  "metadata": {
    "colab": {
      "provenance": []
    },
    "kernelspec": {
      "name": "python3",
      "display_name": "Python 3"
    }
  },
  "cells": [
    {
      "cell_type": "markdown",
      "source": [
        "# **Number Detection**"
      ],
      "metadata": {
        "id": "q631wZGns6kG"
      }
    },
    {
      "cell_type": "markdown",
      "source": [
        "# Importing Libraries"
      ],
      "metadata": {
        "id": "LbCwo5hzqGon"
      }
    },
    {
      "cell_type": "code",
      "source": [
        "import matplotlib.pyplot as plt\n",
        "import pandas as pd\n",
        "import cv2 as cv\n",
        "import numpy as np\n",
        "import collections\n",
        "import tensorflow as tf\n",
        "import seaborn as sns\n",
        "from sklearn import datasets, svm, metrics\n",
        "from sklearn.model_selection import train_test_split"
      ],
      "metadata": {
        "id": "TxGbY5Eafxvs"
      },
      "execution_count": 1,
      "outputs": []
    },
    {
      "cell_type": "markdown",
      "source": [
        "# Import Dataset"
      ],
      "metadata": {
        "id": "wV-vIfyXg7CM"
      }
    },
    {
      "cell_type": "code",
      "source": [
        "digits = datasets.load_digits()"
      ],
      "metadata": {
        "id": "6vT4jpd9fztz"
      },
      "execution_count": 2,
      "outputs": []
    },
    {
      "cell_type": "markdown",
      "source": [
        "# Find Contours for Entire Digits"
      ],
      "metadata": {
        "id": "xx1THyK0g-hT"
      }
    },
    {
      "cell_type": "code",
      "source": [
        "moments_list = []\n",
        "for image in digits.images:\n",
        "    digit_unint8 = cv.convertScaleAbs(image, alpha=(255.0))\n",
        "    _, thresh = cv.threshold(digit_unint8, 0, 255, cv.THRESH_BINARY_INV + cv.THRESH_OTSU)\n",
        "    counters, hierarchy = cv.findContours(thresh, cv.RETR_CCOMP, cv.CHAIN_APPROX_SIMPLE)\n",
        "\n",
        "    digit_moments = []\n",
        "    for counter in counters:\n",
        "        moments = cv.moments(counter)\n",
        "        digit_moments.extend(list(moments.values()))\n",
        "\n",
        "    moments_list.append(digit_moments)"
      ],
      "metadata": {
        "id": "SQ8RUifZf5F2"
      },
      "execution_count": 4,
      "outputs": []
    },
    {
      "cell_type": "markdown",
      "source": [
        "# Padding the Contours Set"
      ],
      "metadata": {
        "id": "KhnTJFgmDvF0"
      }
    },
    {
      "cell_type": "code",
      "source": [
        "max_len = max(len(row) for row in moments_list)\n",
        "\n",
        "\n",
        "# Padding shorter lists of moments with zeros to ensure uniform length\n",
        "moment_pad = [row + [0] * (max_len - len(row)) for row in moments_list]\n",
        "\n",
        "moment_pad_array = np.array(moment_pad)"
      ],
      "metadata": {
        "id": "_Q9DklgQ6KAM"
      },
      "execution_count": 5,
      "outputs": []
    },
    {
      "cell_type": "markdown",
      "source": [
        "# Flatten Moments"
      ],
      "metadata": {
        "id": "f3ObzAVvhCue"
      }
    },
    {
      "cell_type": "code",
      "source": [
        "# Flatten the list of moments\n",
        "moments_array = np.array(moment_pad)\n",
        "totalItems = moments_array.shape[1]\n",
        "\n",
        "df_data = pd.DataFrame(moments_array)\n",
        "df_data = df_data.astype('float32')"
      ],
      "metadata": {
        "id": "31LINDDLf-Bt"
      },
      "execution_count": 6,
      "outputs": []
    },
    {
      "cell_type": "markdown",
      "source": [
        "# Train the model"
      ],
      "metadata": {
        "id": "oJ-r28MhhOzB"
      }
    },
    {
      "cell_type": "code",
      "source": [
        "#split the dataset into train and test\n",
        "X_train, X_test, y_train, y_test = train_test_split(df_data, digits.target, test_size=0.2, shuffle=False)\n",
        "\n",
        "\n",
        "# Define and compile the model\n",
        "model = tf.keras.Sequential([\n",
        "    tf.keras.layers.Flatten(input_shape=(totalItems, 1)),\n",
        "    tf.keras.layers.Dense(128, activation='relu'),\n",
        "    tf.keras.layers.Dense(10)\n",
        "])\n",
        "\n",
        "model.compile(optimizer='adam',\n",
        "              loss=tf.keras.losses.SparseCategoricalCrossentropy(from_logits=True),\n",
        "              metrics=['accuracy'])\n",
        "\n",
        "\n",
        "# Train the model with the custom callback\n",
        "model.fit(X_train, y_train, epochs=100)\n",
        "\n",
        "# Evaluate the final model\n",
        "test_loss, test_acc = model.evaluate(X_test, y_test, verbose=2)\n",
        "print('\\nTest accuracy:', test_acc)"
      ],
      "metadata": {
        "id": "eduTsGdtm-r2",
        "colab": {
          "base_uri": "https://localhost:8080/"
        },
        "outputId": "55c77ddf-6655-467a-9ddc-ba1ddce270e2"
      },
      "execution_count": 7,
      "outputs": [
        {
          "output_type": "stream",
          "name": "stdout",
          "text": [
            "Epoch 1/100\n",
            "45/45 [==============================] - 2s 2ms/step - loss: 99.9969 - accuracy: 0.1642\n",
            "Epoch 2/100\n",
            "45/45 [==============================] - 0s 3ms/step - loss: 13.4021 - accuracy: 0.3994\n",
            "Epoch 3/100\n",
            "45/45 [==============================] - 0s 4ms/step - loss: 8.3534 - accuracy: 0.4349\n",
            "Epoch 4/100\n",
            "45/45 [==============================] - 0s 3ms/step - loss: 6.0509 - accuracy: 0.5031\n",
            "Epoch 5/100\n",
            "45/45 [==============================] - 0s 3ms/step - loss: 5.2001 - accuracy: 0.5289\n",
            "Epoch 6/100\n",
            "45/45 [==============================] - 0s 3ms/step - loss: 4.0672 - accuracy: 0.5797\n",
            "Epoch 7/100\n",
            "45/45 [==============================] - 0s 3ms/step - loss: 3.9806 - accuracy: 0.5804\n",
            "Epoch 8/100\n",
            "45/45 [==============================] - 0s 3ms/step - loss: 3.3229 - accuracy: 0.6054\n",
            "Epoch 9/100\n",
            "45/45 [==============================] - 0s 3ms/step - loss: 4.0109 - accuracy: 0.5922\n",
            "Epoch 10/100\n",
            "45/45 [==============================] - 0s 3ms/step - loss: 3.4983 - accuracy: 0.6180\n",
            "Epoch 11/100\n",
            "45/45 [==============================] - 0s 3ms/step - loss: 3.0680 - accuracy: 0.6367\n",
            "Epoch 12/100\n",
            "45/45 [==============================] - 0s 3ms/step - loss: 2.9737 - accuracy: 0.6263\n",
            "Epoch 13/100\n",
            "45/45 [==============================] - 0s 3ms/step - loss: 3.4141 - accuracy: 0.6360\n",
            "Epoch 14/100\n",
            "45/45 [==============================] - 0s 3ms/step - loss: 2.3251 - accuracy: 0.6959\n",
            "Epoch 15/100\n",
            "45/45 [==============================] - 0s 3ms/step - loss: 2.1087 - accuracy: 0.7077\n",
            "Epoch 16/100\n",
            "45/45 [==============================] - 0s 4ms/step - loss: 2.4165 - accuracy: 0.6917\n",
            "Epoch 17/100\n",
            "45/45 [==============================] - 0s 3ms/step - loss: 4.8488 - accuracy: 0.6354\n",
            "Epoch 18/100\n",
            "45/45 [==============================] - 0s 3ms/step - loss: 3.1606 - accuracy: 0.6764\n",
            "Epoch 19/100\n",
            "45/45 [==============================] - 0s 3ms/step - loss: 2.6979 - accuracy: 0.6715\n",
            "Epoch 20/100\n",
            "45/45 [==============================] - 0s 3ms/step - loss: 2.1320 - accuracy: 0.7084\n",
            "Epoch 21/100\n",
            "45/45 [==============================] - 0s 3ms/step - loss: 2.5118 - accuracy: 0.6938\n",
            "Epoch 22/100\n",
            "45/45 [==============================] - 0s 3ms/step - loss: 2.2454 - accuracy: 0.7042\n",
            "Epoch 23/100\n",
            "45/45 [==============================] - 0s 3ms/step - loss: 2.3460 - accuracy: 0.6952\n",
            "Epoch 24/100\n",
            "45/45 [==============================] - 0s 3ms/step - loss: 2.2023 - accuracy: 0.7008\n",
            "Epoch 25/100\n",
            "45/45 [==============================] - 0s 3ms/step - loss: 2.4983 - accuracy: 0.6987\n",
            "Epoch 26/100\n",
            "45/45 [==============================] - 0s 3ms/step - loss: 2.3525 - accuracy: 0.7147\n",
            "Epoch 27/100\n",
            "45/45 [==============================] - 0s 3ms/step - loss: 2.3084 - accuracy: 0.7154\n",
            "Epoch 28/100\n",
            "45/45 [==============================] - 0s 3ms/step - loss: 2.4251 - accuracy: 0.7209\n",
            "Epoch 29/100\n",
            "45/45 [==============================] - 0s 3ms/step - loss: 2.6065 - accuracy: 0.6931\n",
            "Epoch 30/100\n",
            "45/45 [==============================] - 0s 3ms/step - loss: 2.5203 - accuracy: 0.7015\n",
            "Epoch 31/100\n",
            "45/45 [==============================] - 0s 3ms/step - loss: 2.5838 - accuracy: 0.6959\n",
            "Epoch 32/100\n",
            "45/45 [==============================] - 0s 3ms/step - loss: 2.7427 - accuracy: 0.7070\n",
            "Epoch 33/100\n",
            "45/45 [==============================] - 0s 3ms/step - loss: 1.9922 - accuracy: 0.7328\n",
            "Epoch 34/100\n",
            "45/45 [==============================] - 0s 3ms/step - loss: 1.6256 - accuracy: 0.7655\n",
            "Epoch 35/100\n",
            "45/45 [==============================] - 0s 3ms/step - loss: 1.9940 - accuracy: 0.7356\n",
            "Epoch 36/100\n",
            "45/45 [==============================] - 0s 3ms/step - loss: 3.6405 - accuracy: 0.6799\n",
            "Epoch 37/100\n",
            "45/45 [==============================] - 0s 3ms/step - loss: 3.1059 - accuracy: 0.7098\n",
            "Epoch 38/100\n",
            "45/45 [==============================] - 0s 3ms/step - loss: 2.6862 - accuracy: 0.7223\n",
            "Epoch 39/100\n",
            "45/45 [==============================] - 0s 3ms/step - loss: 2.1729 - accuracy: 0.7363\n",
            "Epoch 40/100\n",
            "45/45 [==============================] - 0s 3ms/step - loss: 1.8447 - accuracy: 0.7557\n",
            "Epoch 41/100\n",
            "45/45 [==============================] - 0s 3ms/step - loss: 1.8099 - accuracy: 0.7537\n",
            "Epoch 42/100\n",
            "45/45 [==============================] - 0s 3ms/step - loss: 1.6576 - accuracy: 0.7759\n",
            "Epoch 43/100\n",
            "45/45 [==============================] - 0s 3ms/step - loss: 1.8483 - accuracy: 0.7592\n",
            "Epoch 44/100\n",
            "45/45 [==============================] - 0s 3ms/step - loss: 1.5012 - accuracy: 0.7822\n",
            "Epoch 45/100\n",
            "45/45 [==============================] - 0s 3ms/step - loss: 1.6336 - accuracy: 0.7711\n",
            "Epoch 46/100\n",
            "45/45 [==============================] - 0s 3ms/step - loss: 2.0527 - accuracy: 0.7467\n",
            "Epoch 47/100\n",
            "45/45 [==============================] - 0s 3ms/step - loss: 2.2802 - accuracy: 0.7216\n",
            "Epoch 48/100\n",
            "45/45 [==============================] - 0s 4ms/step - loss: 1.7792 - accuracy: 0.7432\n",
            "Epoch 49/100\n",
            "45/45 [==============================] - 0s 3ms/step - loss: 1.9183 - accuracy: 0.7550\n",
            "Epoch 50/100\n",
            "45/45 [==============================] - 0s 3ms/step - loss: 1.7935 - accuracy: 0.7592\n",
            "Epoch 51/100\n",
            "45/45 [==============================] - 0s 3ms/step - loss: 1.8389 - accuracy: 0.7599\n",
            "Epoch 52/100\n",
            "45/45 [==============================] - 0s 3ms/step - loss: 1.5157 - accuracy: 0.8003\n",
            "Epoch 53/100\n",
            "45/45 [==============================] - 0s 2ms/step - loss: 2.1435 - accuracy: 0.7425\n",
            "Epoch 54/100\n",
            "45/45 [==============================] - 0s 2ms/step - loss: 1.8570 - accuracy: 0.7676\n",
            "Epoch 55/100\n",
            "45/45 [==============================] - 0s 2ms/step - loss: 1.7646 - accuracy: 0.7724\n",
            "Epoch 56/100\n",
            "45/45 [==============================] - 0s 2ms/step - loss: 1.6328 - accuracy: 0.7731\n",
            "Epoch 57/100\n",
            "45/45 [==============================] - 0s 2ms/step - loss: 2.2053 - accuracy: 0.7453\n",
            "Epoch 58/100\n",
            "45/45 [==============================] - 0s 2ms/step - loss: 2.0075 - accuracy: 0.7557\n",
            "Epoch 59/100\n",
            "45/45 [==============================] - 0s 2ms/step - loss: 1.8195 - accuracy: 0.7690\n",
            "Epoch 60/100\n",
            "45/45 [==============================] - 0s 2ms/step - loss: 2.3436 - accuracy: 0.7530\n",
            "Epoch 61/100\n",
            "45/45 [==============================] - 0s 2ms/step - loss: 2.3052 - accuracy: 0.7550\n",
            "Epoch 62/100\n",
            "45/45 [==============================] - 0s 3ms/step - loss: 3.0363 - accuracy: 0.7182\n",
            "Epoch 63/100\n",
            "45/45 [==============================] - 0s 3ms/step - loss: 1.5314 - accuracy: 0.7975\n",
            "Epoch 64/100\n",
            "45/45 [==============================] - 0s 3ms/step - loss: 2.1314 - accuracy: 0.7592\n",
            "Epoch 65/100\n",
            "45/45 [==============================] - 0s 3ms/step - loss: 1.8888 - accuracy: 0.7808\n",
            "Epoch 66/100\n",
            "45/45 [==============================] - 0s 3ms/step - loss: 1.5857 - accuracy: 0.7982\n",
            "Epoch 67/100\n",
            "45/45 [==============================] - 0s 3ms/step - loss: 1.5253 - accuracy: 0.7975\n",
            "Epoch 68/100\n",
            "45/45 [==============================] - 0s 3ms/step - loss: 1.4944 - accuracy: 0.8031\n",
            "Epoch 69/100\n",
            "45/45 [==============================] - 0s 3ms/step - loss: 1.9577 - accuracy: 0.7808\n",
            "Epoch 70/100\n",
            "45/45 [==============================] - 0s 3ms/step - loss: 1.8679 - accuracy: 0.7898\n",
            "Epoch 71/100\n",
            "45/45 [==============================] - 0s 4ms/step - loss: 1.4088 - accuracy: 0.8093\n",
            "Epoch 72/100\n",
            "45/45 [==============================] - 0s 5ms/step - loss: 1.8749 - accuracy: 0.7787\n",
            "Epoch 73/100\n",
            "45/45 [==============================] - 0s 4ms/step - loss: 2.0212 - accuracy: 0.7808\n",
            "Epoch 74/100\n",
            "45/45 [==============================] - 0s 4ms/step - loss: 1.6363 - accuracy: 0.8003\n",
            "Epoch 75/100\n",
            "45/45 [==============================] - 0s 5ms/step - loss: 1.9553 - accuracy: 0.7926\n",
            "Epoch 76/100\n",
            "45/45 [==============================] - 0s 4ms/step - loss: 1.9007 - accuracy: 0.7919\n",
            "Epoch 77/100\n",
            "45/45 [==============================] - 0s 3ms/step - loss: 1.7323 - accuracy: 0.7794\n",
            "Epoch 78/100\n",
            "45/45 [==============================] - 0s 3ms/step - loss: 1.3705 - accuracy: 0.8246\n",
            "Epoch 79/100\n",
            "45/45 [==============================] - 0s 4ms/step - loss: 1.3684 - accuracy: 0.7982\n",
            "Epoch 80/100\n",
            "45/45 [==============================] - 0s 4ms/step - loss: 1.8281 - accuracy: 0.7794\n",
            "Epoch 81/100\n",
            "45/45 [==============================] - 0s 4ms/step - loss: 1.3290 - accuracy: 0.8198\n",
            "Epoch 82/100\n",
            "45/45 [==============================] - 0s 4ms/step - loss: 1.5104 - accuracy: 0.8003\n",
            "Epoch 83/100\n",
            "45/45 [==============================] - 0s 4ms/step - loss: 1.3320 - accuracy: 0.8142\n",
            "Epoch 84/100\n",
            "45/45 [==============================] - 0s 3ms/step - loss: 1.5296 - accuracy: 0.8079\n",
            "Epoch 85/100\n",
            "45/45 [==============================] - 0s 4ms/step - loss: 1.2391 - accuracy: 0.8232\n",
            "Epoch 86/100\n",
            "45/45 [==============================] - 0s 4ms/step - loss: 1.5714 - accuracy: 0.7884\n",
            "Epoch 87/100\n",
            "45/45 [==============================] - 0s 3ms/step - loss: 1.8472 - accuracy: 0.7683\n",
            "Epoch 88/100\n",
            "45/45 [==============================] - 0s 4ms/step - loss: 1.7690 - accuracy: 0.7912\n",
            "Epoch 89/100\n",
            "45/45 [==============================] - 0s 5ms/step - loss: 2.0020 - accuracy: 0.7787\n",
            "Epoch 90/100\n",
            "45/45 [==============================] - 0s 4ms/step - loss: 1.8984 - accuracy: 0.7954\n",
            "Epoch 91/100\n",
            "45/45 [==============================] - 0s 4ms/step - loss: 1.6753 - accuracy: 0.7968\n",
            "Epoch 92/100\n",
            "45/45 [==============================] - 0s 5ms/step - loss: 1.4947 - accuracy: 0.8072\n",
            "Epoch 93/100\n",
            "45/45 [==============================] - 0s 4ms/step - loss: 1.5266 - accuracy: 0.8079\n",
            "Epoch 94/100\n",
            "45/45 [==============================] - 0s 4ms/step - loss: 1.6065 - accuracy: 0.7989\n",
            "Epoch 95/100\n",
            "45/45 [==============================] - 0s 3ms/step - loss: 1.2612 - accuracy: 0.8302\n",
            "Epoch 96/100\n",
            "45/45 [==============================] - 0s 2ms/step - loss: 1.5838 - accuracy: 0.7912\n",
            "Epoch 97/100\n",
            "45/45 [==============================] - 0s 3ms/step - loss: 1.6346 - accuracy: 0.7947\n",
            "Epoch 98/100\n",
            "45/45 [==============================] - 0s 3ms/step - loss: 1.7264 - accuracy: 0.8058\n",
            "Epoch 99/100\n",
            "45/45 [==============================] - 0s 3ms/step - loss: 1.3737 - accuracy: 0.8205\n",
            "Epoch 100/100\n",
            "45/45 [==============================] - 0s 3ms/step - loss: 1.6954 - accuracy: 0.8051\n",
            "12/12 - 0s - loss: 2.9615 - accuracy: 0.6667 - 212ms/epoch - 18ms/step\n",
            "\n",
            "Test accuracy: 0.6666666865348816\n"
          ]
        }
      ]
    },
    {
      "cell_type": "markdown",
      "source": [
        "# Print Confusion Matrix"
      ],
      "metadata": {
        "id": "LdA2MHschS68"
      }
    },
    {
      "cell_type": "code",
      "source": [
        "# Get model predictions\n",
        "y_pred_probs = model.predict(X_test)\n",
        "\n",
        "# Convert probabilities to predicted labels\n",
        "y_pred = np.argmax(y_pred_probs, axis=1)\n",
        "\n",
        "# Display confusion matrix\n",
        "conf_matrix = metrics.confusion_matrix(y_test, y_pred)\n",
        "print(\"Confusion Matrix:\")\n",
        "print(conf_matrix)"
      ],
      "metadata": {
        "colab": {
          "base_uri": "https://localhost:8080/"
        },
        "id": "BdkLDrj7gX-9",
        "outputId": "c8f68895-cec7-47b4-94e5-62fab82e2752"
      },
      "execution_count": 8,
      "outputs": [
        {
          "output_type": "stream",
          "name": "stdout",
          "text": [
            "12/12 [==============================] - 0s 2ms/step\n",
            "Confusion Matrix:\n",
            "[[30  0  0  0  1  1  3  0  0  0]\n",
            " [ 0 14  1  1  7  0  0  0 12  1]\n",
            " [ 0  0 30  5  0  0  0  0  0  0]\n",
            " [ 0  0 13 16  0  3  0  0  5  0]\n",
            " [ 1  1  0  0 32  0  0  2  1  0]\n",
            " [ 1  0  0  0  4 22  1  2  3  4]\n",
            " [ 0  2  1  1  2  0 26  0  1  4]\n",
            " [ 0  0  0  0  3  1  0 30  1  1]\n",
            " [ 0  1  3  2  0  3  0  2 16  6]\n",
            " [ 1  1  1  4  0  2  0  3  1 24]]\n"
          ]
        }
      ]
    },
    {
      "cell_type": "markdown",
      "source": [
        "# Show Confusion Matrix"
      ],
      "metadata": {
        "id": "J2uwJewchZdM"
      }
    },
    {
      "cell_type": "code",
      "source": [
        "# Display confusion matrix as heatmap\n",
        "plt.figure(figsize=(8, 6))\n",
        "sns.heatmap(conf_matrix, annot=True, fmt='d', cmap='Blues')\n",
        "plt.xlabel('Predicted')\n",
        "plt.ylabel('Actual')\n",
        "plt.title('Confusion Matrix')\n",
        "plt.show()"
      ],
      "metadata": {
        "colab": {
          "base_uri": "https://localhost:8080/",
          "height": 564
        },
        "id": "xZTX97d_gcgE",
        "outputId": "3b9ce3fc-b686-421f-fff0-f9f272888885"
      },
      "execution_count": 9,
      "outputs": [
        {
          "output_type": "display_data",
          "data": {
            "text/plain": [
              "<Figure size 800x600 with 2 Axes>"
            ],
            "image/png": "[encoded data removed]"
          },
          "metadata": {}
        }
      ]
    }
  ]
}